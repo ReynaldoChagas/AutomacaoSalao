{
 "cells": [
  {
   "cell_type": "code",
   "execution_count": null,
   "metadata": {},
   "outputs": [],
   "source": [
    "#Importação das bibliotecas\n",
    "import pandas as pd\n",
    "from selenium import webdriver\n",
    "from time import sleep\n",
    "from selenium.webdriver.common.by import By\n",
    "from selenium.webdriver.common.keys import Keys\n",
    "from selenium.common.exceptions import NoSuchElementException"
   ]
  },
  {
   "cell_type": "code",
   "execution_count": null,
   "metadata": {},
   "outputs": [],
   "source": [
    "#Importação da base de dados do salão\n",
    "caminho = 'base_salao.xlsx' #Alocar a planilha na mesma pasta do script\n",
    "df = pd.read_excel(caminho,sheet_name='AGENDA')"
   ]
  },
  {
   "cell_type": "code",
   "execution_count": null,
   "metadata": {},
   "outputs": [],
   "source": [
    "#Formata o horário para remover os segundos da coluna HORA e o horário da coluna DATA\n",
    "df['HORARIO'] = df['HORARIO'].apply(lambda x : x.strftime(\"%H:%M\"))\n",
    "df['DATA'] = df['DATA'].apply(lambda x : x.strftime(\"%d/%m/%y\"))"
   ]
  },
  {
   "cell_type": "code",
   "execution_count": null,
   "metadata": {},
   "outputs": [],
   "source": [
    "#Filtra o dataframe com base nos clientes que ainda precisam ser avisados\n",
    "df_avisar = df.loc[df['AVISAR']=='SIM'].reset_index(drop=True)\n",
    "df_avisar"
   ]
  },
  {
   "cell_type": "code",
   "execution_count": null,
   "metadata": {},
   "outputs": [],
   "source": [
    "#Abre o navegador para logar o whatsapp\n",
    "driver = webdriver.Chrome()\n",
    "driver.get('https://web.whatsapp.com/')\n",
    "sleep(10)\n",
    "\n",
    "#Loop para logar o captcha\n",
    "while True:\n",
    "    try:\n",
    "        campo_busca = driver.find_element(By.XPATH,'//*[@id=\"side\"]/div[1]/div/div[2]/div[2]/div/div[1]')\n",
    "        break #whatsapp já está logado\n",
    "\n",
    "    except NoSuchElementException:\n",
    "        print(\"Whatsapp ainda não foi logado, nova tentativa em 10 segundos\")\n",
    "        sleep(10)"
   ]
  },
  {
   "cell_type": "code",
   "execution_count": null,
   "metadata": {},
   "outputs": [],
   "source": [
    "#laço para enviar a mensagem para todos do dataframe\n",
    "for indice in df_avisar.index:\n",
    "\n",
    "    info = df_avisar.iloc[indice] #obtem todas as informações do agendamento\n",
    "\n",
    "    #Abre a conversa da pessoa\n",
    "    campo_busca = driver.find_element(By.XPATH,'//*[@id=\"side\"]/div[1]/div/div[2]/div[2]/div/div[1]')\n",
    "    campo_busca.send_keys(str(info[5]))\n",
    "    sleep(2)\n",
    "    campo_busca.send_keys(Keys.ENTER)\n",
    "\n",
    "    #Envia a mensagem\n",
    "    campo_mensagem = driver.find_element(By.XPATH,'//*[@id=\"main\"]/footer/div[1]/div/span[2]/div/div[2]/div[1]/div/div[1]/p')\n",
    "    campo_mensagem.send_keys(f'Olá, {info[0]}!')\n",
    "    sleep(1.5)\n",
    "    campo_mensagem.send_keys(Keys.SHIFT + Keys.ENTER)\n",
    "    sleep(1.5)\n",
    "    campo_mensagem.send_keys(f'Estou passando para lembrar que seu agendamento com *{info[4]}* para *{info[3]}* está marcado para:')\n",
    "    sleep(1.5)\n",
    "    campo_mensagem.send_keys(Keys.SHIFT + Keys.ENTER)\n",
    "    sleep(1.5)\n",
    "    campo_mensagem.send_keys(f'*{info[1]}* as *{info[2]}*')\n",
    "    sleep(1.5)\n",
    "    campo_mensagem.send_keys(Keys.SHIFT + Keys.ENTER)\n",
    "    sleep(1.5)\n",
    "    campo_mensagem.send_keys('Aguardamos você! Caso precise cancelar, basta nos avisar.')\n",
    "    sleep(1.5)\n",
    "    campo_mensagem.send_keys(Keys.ENTER)\n",
    "    sleep(2)"
   ]
  }
 ],
 "metadata": {
  "kernelspec": {
   "display_name": "Python 3",
   "language": "python",
   "name": "python3"
  },
  "language_info": {
   "codemirror_mode": {
    "name": "ipython",
    "version": 3
   },
   "file_extension": ".py",
   "mimetype": "text/x-python",
   "name": "python",
   "nbconvert_exporter": "python",
   "pygments_lexer": "ipython3",
   "version": "3.11.8"
  }
 },
 "nbformat": 4,
 "nbformat_minor": 2
}
